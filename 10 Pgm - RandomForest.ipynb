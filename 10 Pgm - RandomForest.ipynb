{
 "cells": [
  {
   "cell_type": "code",
   "execution_count": 6,
   "id": "db239061-0ffa-4d81-8046-1ce21dd542bc",
   "metadata": {},
   "outputs": [
    {
     "name": "stdout",
     "output_type": "stream",
     "text": [
      "Out-of-bag score: 0.99302649930265\n"
     ]
    }
   ],
   "source": [
    "import pandas as pd\n",
    "from sklearn.model_selection import train_test_split\n",
    "from sklearn.ensemble import RandomForestClassifier\n",
    "from sklearn.metrics import accuracy_score\n",
    "from sklearn import preprocessing\n",
    "\n",
    "# Read data\n",
    "df = pd.read_csv(\"./Datasets/Heart.csv\")\n",
    "\n",
    "# Encode categorical columns\n",
    "df_encoded = df.copy()\n",
    "le = preprocessing.LabelEncoder()\n",
    "categorical_cols = ['age', 'sex', 'cp', 'trestbps', 'chol', 'fbs', 'restecg', \n",
    "                    'thalach', 'exang', 'oldpeak', 'slope', 'ca', 'thal', 'target']\n",
    "for col in categorical_cols:\n",
    "    df_encoded[col] = le.fit_transform(df_encoded[col].values)\n",
    "\n",
    "# Split data into features and target\n",
    "X = df_encoded.iloc[:, :-1]\n",
    "y = df_encoded.iloc[:, -1]\n",
    "\n",
    "# Split data into train and test sets\n",
    "X_train, X_test, y_train, y_test = train_test_split(X, y, test_size=0.3, random_state=0)\n",
    "\n",
    "# Train RandomForestClassifier\n",
    "rf = RandomForestClassifier(oob_score=True)\n",
    "rf.fit(X_train, y_train)\n",
    "\n",
    "# Compute out-of-bag score\n",
    "oob_score = rf.oob_score_\n",
    "print(\"Out-of-bag score:\", oob_score)\n"
   ]
  }
 ],
 "metadata": {
  "kernelspec": {
   "display_name": "Python 3 (ipykernel)",
   "language": "python",
   "name": "python3"
  },
  "language_info": {
   "codemirror_mode": {
    "name": "ipython",
    "version": 3
   },
   "file_extension": ".py",
   "mimetype": "text/x-python",
   "name": "python",
   "nbconvert_exporter": "python",
   "pygments_lexer": "ipython3",
   "version": "3.12.1"
  },
  "widgets": {
   "application/vnd.jupyter.widget-state+json": {
    "state": {},
    "version_major": 2,
    "version_minor": 0
   }
  }
 },
 "nbformat": 4,
 "nbformat_minor": 5
}
