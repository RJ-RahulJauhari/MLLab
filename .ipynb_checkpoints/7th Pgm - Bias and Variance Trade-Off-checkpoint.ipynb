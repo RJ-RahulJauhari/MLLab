{
 "cells": [
  {
   "cell_type": "code",
   "execution_count": 1,
   "id": "2ecf211b-36bb-42c3-942d-c1013cc32bfa",
   "metadata": {},
   "outputs": [],
   "source": [
    "import pandas as pd\n",
    "from sklearn.model_selection import train_test_split\n",
    "from sklearn.linear_model import LinearRegression \n",
    "from mlxtend.evaluate import bias_variance_decomp"
   ]
  },
  {
   "cell_type": "code",
   "execution_count": 29,
   "id": "47dbaa79-2f98-4015-92a2-1a3acd15bf10",
   "metadata": {},
   "outputs": [],
   "source": [
    "df = pd.read_csv('./Datasets/HousePriceData.csv')\n",
    "df = pd.get_dummies(df, columns=['furnishingstatus'])"
   ]
  },
  {
   "cell_type": "code",
   "execution_count": 30,
   "id": "5cbea3cd-c5ee-44d5-ad8b-d77ab5d8b86e",
   "metadata": {},
   "outputs": [
    {
     "data": {
      "text/html": [
       "<div>\n",
       "<style scoped>\n",
       "    .dataframe tbody tr th:only-of-type {\n",
       "        vertical-align: middle;\n",
       "    }\n",
       "\n",
       "    .dataframe tbody tr th {\n",
       "        vertical-align: top;\n",
       "    }\n",
       "\n",
       "    .dataframe thead th {\n",
       "        text-align: right;\n",
       "    }\n",
       "</style>\n",
       "<table border=\"1\" class=\"dataframe\">\n",
       "  <thead>\n",
       "    <tr style=\"text-align: right;\">\n",
       "      <th></th>\n",
       "      <th>FloorArea</th>\n",
       "      <th>BedRooms</th>\n",
       "      <th>Price</th>\n",
       "      <th>furnishingstatus_furnished</th>\n",
       "      <th>furnishingstatus_semi-furnished</th>\n",
       "      <th>furnishingstatus_unfurnished</th>\n",
       "    </tr>\n",
       "  </thead>\n",
       "  <tbody>\n",
       "    <tr>\n",
       "      <th>0</th>\n",
       "      <td>2104</td>\n",
       "      <td>3</td>\n",
       "      <td>399900</td>\n",
       "      <td>True</td>\n",
       "      <td>False</td>\n",
       "      <td>False</td>\n",
       "    </tr>\n",
       "    <tr>\n",
       "      <th>1</th>\n",
       "      <td>1600</td>\n",
       "      <td>3</td>\n",
       "      <td>329900</td>\n",
       "      <td>True</td>\n",
       "      <td>False</td>\n",
       "      <td>False</td>\n",
       "    </tr>\n",
       "    <tr>\n",
       "      <th>2</th>\n",
       "      <td>2400</td>\n",
       "      <td>3</td>\n",
       "      <td>369000</td>\n",
       "      <td>False</td>\n",
       "      <td>True</td>\n",
       "      <td>False</td>\n",
       "    </tr>\n",
       "    <tr>\n",
       "      <th>3</th>\n",
       "      <td>1416</td>\n",
       "      <td>2</td>\n",
       "      <td>232000</td>\n",
       "      <td>True</td>\n",
       "      <td>False</td>\n",
       "      <td>False</td>\n",
       "    </tr>\n",
       "    <tr>\n",
       "      <th>4</th>\n",
       "      <td>3000</td>\n",
       "      <td>4</td>\n",
       "      <td>539900</td>\n",
       "      <td>True</td>\n",
       "      <td>False</td>\n",
       "      <td>False</td>\n",
       "    </tr>\n",
       "  </tbody>\n",
       "</table>\n",
       "</div>"
      ],
      "text/plain": [
       "   FloorArea  BedRooms   Price  furnishingstatus_furnished  \\\n",
       "0       2104         3  399900                        True   \n",
       "1       1600         3  329900                        True   \n",
       "2       2400         3  369000                       False   \n",
       "3       1416         2  232000                        True   \n",
       "4       3000         4  539900                        True   \n",
       "\n",
       "   furnishingstatus_semi-furnished  furnishingstatus_unfurnished  \n",
       "0                            False                         False  \n",
       "1                            False                         False  \n",
       "2                             True                         False  \n",
       "3                            False                         False  \n",
       "4                            False                         False  "
      ]
     },
     "execution_count": 30,
     "metadata": {},
     "output_type": "execute_result"
    }
   ],
   "source": [
    "df.head()"
   ]
  },
  {
   "cell_type": "code",
   "execution_count": 31,
   "id": "83592182-ef86-4009-9e2e-da84e4f515c6",
   "metadata": {},
   "outputs": [],
   "source": [
    "data = df.values"
   ]
  },
  {
   "cell_type": "code",
   "execution_count": 59,
   "id": "73cfdd54-8ef1-4e1d-a9f2-b9b469f79e1f",
   "metadata": {},
   "outputs": [
    {
     "data": {
      "text/plain": [
       "array([[2104, 3, 399900, True, False],\n",
       "       [1600, 3, 329900, True, False],\n",
       "       [2400, 3, 369000, False, True],\n",
       "       [1416, 2, 232000, True, False],\n",
       "       [3000, 4, 539900, True, False],\n",
       "       [1985, 4, 299900, False, True],\n",
       "       [1534, 3, 314900, False, True],\n",
       "       [1427, 3, 198999, False, False],\n",
       "       [1380, 3, 212000, True, False],\n",
       "       [1494, 3, 242500, False, False],\n",
       "       [1940, 4, 239999, True, False],\n",
       "       [2000, 3, 347000, False, True],\n",
       "       [1890, 3, 329999, False, True],\n",
       "       [4478, 5, 699900, True, False],\n",
       "       [1268, 3, 259900, False, True],\n",
       "       [2300, 4, 449900, False, True],\n",
       "       [1320, 2, 299900, False, False],\n",
       "       [1236, 3, 199900, True, False],\n",
       "       [2609, 4, 499998, True, False],\n",
       "       [3031, 4, 599000, False, True],\n",
       "       [1767, 3, 252900, False, True],\n",
       "       [1888, 2, 255000, False, False],\n",
       "       [1604, 3, 242900, True, False],\n",
       "       [1962, 4, 259900, True, False],\n",
       "       [3890, 3, 573900, True, False],\n",
       "       [1100, 3, 249900, True, False],\n",
       "       [1458, 3, 464500, False, True],\n",
       "       [2526, 3, 469000, False, True],\n",
       "       [2200, 3, 475000, False, False],\n",
       "       [2637, 3, 299900, False, True],\n",
       "       [1839, 2, 349900, False, False],\n",
       "       [1000, 1, 169900, False, True],\n",
       "       [2040, 4, 314900, True, False],\n",
       "       [3137, 3, 579900, False, False],\n",
       "       [1811, 4, 285900, True, False],\n",
       "       [1437, 3, 249900, True, False],\n",
       "       [1239, 3, 229900, True, False],\n",
       "       [2132, 4, 345000, True, False],\n",
       "       [4215, 4, 549000, False, False],\n",
       "       [2162, 4, 287000, False, True],\n",
       "       [1664, 2, 368500, True, False],\n",
       "       [2238, 3, 329900, True, False],\n",
       "       [2567, 4, 314000, False, False],\n",
       "       [1200, 3, 299000, False, True],\n",
       "       [852, 2, 179900, True, False],\n",
       "       [1852, 4, 299900, False, True],\n",
       "       [1203, 3, 239500, True, False]], dtype=object)"
      ]
     },
     "execution_count": 59,
     "metadata": {},
     "output_type": "execute_result"
    }
   ],
   "source": [
    "x,y = data[:,:-1], data[:,-1]\n",
    "x"
   ]
  },
  {
   "cell_type": "code",
   "execution_count": 60,
   "id": "837bed03-54f5-4bda-8ef7-8a336a66e0e2",
   "metadata": {},
   "outputs": [],
   "source": [
    "x_train,x_test,y_train,y_test = train_test_split(x,y,test_size=0.33)"
   ]
  },
  {
   "cell_type": "code",
   "execution_count": 61,
   "id": "c385b489-b8e6-4520-b353-d33e3eb9b7c4",
   "metadata": {},
   "outputs": [],
   "source": [
    "model = LinearRegression()"
   ]
  },
  {
   "cell_type": "code",
   "execution_count": 62,
   "id": "7e902e57-fdc2-48f9-8bad-a52a45400f4d",
   "metadata": {},
   "outputs": [],
   "source": [
    "mse, bias, var = bias_variance_decomp(model,x_train,y_train,x_test,y_test, loss = 'mse', num_rounds=200, random_seed=1)"
   ]
  },
  {
   "cell_type": "code",
   "execution_count": 63,
   "id": "af213d48-aa30-4e0f-8189-216a2c2542d0",
   "metadata": {},
   "outputs": [
    {
     "name": "stdout",
     "output_type": "stream",
     "text": [
      "0.00125\n"
     ]
    }
   ],
   "source": [
    "print(mse)"
   ]
  },
  {
   "cell_type": "code",
   "execution_count": 64,
   "id": "2aa4c380-4953-4fe9-b1a9-016fcbfb74cb",
   "metadata": {},
   "outputs": [
    {
     "name": "stdout",
     "output_type": "stream",
     "text": [
      "6.250000000795347e-06\n"
     ]
    }
   ],
   "source": [
    "print(bias)"
   ]
  },
  {
   "cell_type": "code",
   "execution_count": 65,
   "id": "516f5a07-3045-4db5-a140-c43986ccf9ba",
   "metadata": {},
   "outputs": [
    {
     "name": "stdout",
     "output_type": "stream",
     "text": [
      "0.0012437499999992047\n"
     ]
    }
   ],
   "source": [
    "print(var)"
   ]
  }
 ],
 "metadata": {
  "kernelspec": {
   "display_name": "Python 3 (ipykernel)",
   "language": "python",
   "name": "python3"
  },
  "language_info": {
   "codemirror_mode": {
    "name": "ipython",
    "version": 3
   },
   "file_extension": ".py",
   "mimetype": "text/x-python",
   "name": "python",
   "nbconvert_exporter": "python",
   "pygments_lexer": "ipython3",
   "version": "3.12.1"
  },
  "widgets": {
   "application/vnd.jupyter.widget-state+json": {
    "state": {},
    "version_major": 2,
    "version_minor": 0
   }
  }
 },
 "nbformat": 4,
 "nbformat_minor": 5
}
